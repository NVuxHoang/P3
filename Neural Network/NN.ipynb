{
 "cells": [
  {
   "cell_type": "markdown",
   "metadata": {},
   "source": [
    "## Load Dataset"
   ]
  },
  {
   "cell_type": "code",
   "execution_count": 24,
   "metadata": {
    "_cell_guid": "b1076dfc-b9ad-4769-8c92-a6c4dae69d19",
    "_uuid": "8f2839f25d086af736a60e9eeb907d3b93b6e0e5",
    "execution": {
     "iopub.execute_input": "2021-07-11T09:10:46.609483Z",
     "iopub.status.busy": "2021-07-11T09:10:46.609090Z",
     "iopub.status.idle": "2021-07-11T09:10:46.634566Z",
     "shell.execute_reply": "2021-07-11T09:10:46.633691Z",
     "shell.execute_reply.started": "2021-07-11T09:10:46.609451Z"
    }
   },
   "outputs": [],
   "source": [
    "import numpy as np \n",
    "import pandas as pd \n",
    "\n",
    "train=pd.read_csv('../data/labeledTrainData.tsv.zip', delimiter=\"\\t\")\n",
    "test=pd.read_csv('../data/testData.tsv.zip', delimiter=\"\\t\")\n",
    "\n",
    "sub=pd.read_csv('../data/sampleSubmission.csv')"
   ]
  },
  {
   "cell_type": "markdown",
   "metadata": {},
   "source": [
    "## Data Preprocessing\n"
   ]
  },
  {
   "cell_type": "code",
   "execution_count": 25,
   "metadata": {
    "execution": {
     "iopub.execute_input": "2021-07-11T09:11:19.102357Z",
     "iopub.status.busy": "2021-07-11T09:11:19.101987Z",
     "iopub.status.idle": "2021-07-11T09:11:19.108698Z",
     "shell.execute_reply": "2021-07-11T09:11:19.107763Z",
     "shell.execute_reply.started": "2021-07-11T09:11:19.102313Z"
    }
   },
   "outputs": [],
   "source": [
    "import re\n",
    "import json\n",
    "from bs4 import BeautifulSoup\n",
    "from nltk.corpus import stopwords\n",
    "from keras.preprocessing.sequence import pad_sequences\n",
    "from keras.preprocessing.text import Tokenizer"
   ]
  },
  {
   "cell_type": "code",
   "execution_count": 26,
   "metadata": {
    "execution": {
     "iopub.execute_input": "2021-07-11T09:11:19.110619Z",
     "iopub.status.busy": "2021-07-11T09:11:19.110218Z",
     "iopub.status.idle": "2021-07-11T09:11:45.920487Z",
     "shell.execute_reply": "2021-07-11T09:11:45.919608Z",
     "shell.execute_reply.started": "2021-07-11T09:11:19.110530Z"
    }
   },
   "outputs": [],
   "source": [
    "train['review']=train['review'].apply(lambda x: BeautifulSoup(x,\"html5lib\").get_text())\n",
    "test['review']=test['review'].apply(lambda x: BeautifulSoup(x,\"html5lib\").get_text())"
   ]
  },
  {
   "cell_type": "code",
   "execution_count": 27,
   "metadata": {
    "execution": {
     "iopub.execute_input": "2021-07-11T09:11:45.922366Z",
     "iopub.status.busy": "2021-07-11T09:11:45.921986Z",
     "iopub.status.idle": "2021-07-11T09:11:51.910881Z",
     "shell.execute_reply": "2021-07-11T09:11:51.910019Z",
     "shell.execute_reply.started": "2021-07-11T09:11:45.922327Z"
    }
   },
   "outputs": [],
   "source": [
    "train['review']=train['review'].apply(lambda x: re.sub(\"[^a-zA-Z]\",\" \",x))\n",
    "test['review']=test['review'].apply(lambda x: re.sub(\"[^a-zA-Z]\",\" \",x))"
   ]
  },
  {
   "cell_type": "code",
   "execution_count": 28,
   "metadata": {
    "execution": {
     "iopub.execute_input": "2021-07-11T09:11:51.926381Z",
     "iopub.status.busy": "2021-07-11T09:11:51.926026Z",
     "iopub.status.idle": "2021-07-11T09:12:20.213617Z",
     "shell.execute_reply": "2021-07-11T09:12:20.212786Z",
     "shell.execute_reply.started": "2021-07-11T09:11:51.926341Z"
    }
   },
   "outputs": [],
   "source": [
    "stops = set(stopwords.words(\"english\"))\n",
    "\n",
    "for i in range(0,25000) : \n",
    "    review = train.iloc[i,2] # review column : 2 \n",
    "    review = review.lower().split()\n",
    "    words = [r for r in review if not r in stops]\n",
    "    clean_review = ' '.join(words)\n",
    "    train.iloc[i,2] = clean_review"
   ]
  },
  {
   "cell_type": "code",
   "execution_count": 29,
   "metadata": {
    "execution": {
     "iopub.execute_input": "2021-07-11T09:12:20.215147Z",
     "iopub.status.busy": "2021-07-11T09:12:20.214818Z",
     "iopub.status.idle": "2021-07-11T09:12:47.134127Z",
     "shell.execute_reply": "2021-07-11T09:12:47.133103Z",
     "shell.execute_reply.started": "2021-07-11T09:12:20.215114Z"
    }
   },
   "outputs": [],
   "source": [
    "for i in range(0,25000) : \n",
    "    review = test.iloc[i,1] # review column : 1\n",
    "    review = review.lower().split()\n",
    "    words = [r for r in review if not r in stops]\n",
    "    clean_review = ' '.join(words)\n",
    "    test.iloc[i,1] = clean_review"
   ]
  },
  {
   "cell_type": "code",
   "execution_count": 30,
   "metadata": {
    "execution": {
     "iopub.execute_input": "2021-07-11T09:12:47.135730Z",
     "iopub.status.busy": "2021-07-11T09:12:47.135373Z",
     "iopub.status.idle": "2021-07-11T09:12:47.633690Z",
     "shell.execute_reply": "2021-07-11T09:12:47.632758Z",
     "shell.execute_reply.started": "2021-07-11T09:12:47.135695Z"
    }
   },
   "outputs": [
    {
     "data": {
      "text/plain": [
       "<AxesSubplot:xlabel='sentiment', ylabel='word_n_2'>"
      ]
     },
     "execution_count": 30,
     "metadata": {},
     "output_type": "execute_result"
    },
    {
     "data": {
      "image/png": "[encoded data removed]",
      "text/plain": [
       "<Figure size 504x360 with 1 Axes>"
      ]
     },
     "metadata": {
      "needs_background": "light"
     },
     "output_type": "display_data"
    }
   ],
   "source": [
    "import matplotlib.pyplot as plt\n",
    "import seaborn as sns\n",
    "\n",
    "train['word_n_2'] = train['review'].apply(lambda x : len(x.split(' ')))\n",
    "test['word_n_2'] = test['review'].apply(lambda x : len(x.split(' ')))\n",
    "\n",
    "fig, axe = plt.subplots(1,1, figsize=(7,5))\n",
    "sns.boxenplot(x=train['sentiment'], y=train['word_n_2'], data=train)"
   ]
  },
  {
   "cell_type": "code",
   "execution_count": 31,
   "metadata": {
    "execution": {
     "iopub.execute_input": "2021-07-11T09:12:47.635379Z",
     "iopub.status.busy": "2021-07-11T09:12:47.635037Z",
     "iopub.status.idle": "2021-07-11T09:12:56.013510Z",
     "shell.execute_reply": "2021-07-11T09:12:56.012514Z",
     "shell.execute_reply.started": "2021-07-11T09:12:47.635343Z"
    }
   },
   "outputs": [],
   "source": [
    "from keras.preprocessing.text import Tokenizer\n",
    "tk = Tokenizer()\n",
    "tk.fit_on_texts(list(train['review'])+list(test['review']))\n",
    "text_seq_tr=tk.texts_to_sequences(train['review'])\n",
    "text_seq_te=tk.texts_to_sequences(test['review'])\n",
    "word_ind=tk.word_index"
   ]
  },
  {
   "cell_type": "code",
   "execution_count": 32,
   "metadata": {
    "execution": {
     "iopub.execute_input": "2021-07-11T09:12:56.015258Z",
     "iopub.status.busy": "2021-07-11T09:12:56.014885Z",
     "iopub.status.idle": "2021-07-11T09:12:56.019836Z",
     "shell.execute_reply": "2021-07-11T09:12:56.019013Z",
     "shell.execute_reply.started": "2021-07-11T09:12:56.015222Z"
    }
   },
   "outputs": [
    {
     "name": "stdout",
     "output_type": "stream",
     "text": [
      "Total word count is : 101246\n"
     ]
    }
   ],
   "source": [
    "print('Total word count is :',len(word_ind))"
   ]
  },
  {
   "cell_type": "code",
   "execution_count": 33,
   "metadata": {
    "execution": {
     "iopub.execute_input": "2021-07-11T09:12:56.024181Z",
     "iopub.status.busy": "2021-07-11T09:12:56.023642Z",
     "iopub.status.idle": "2021-07-11T09:12:56.030528Z",
     "shell.execute_reply": "2021-07-11T09:12:56.029603Z",
     "shell.execute_reply.started": "2021-07-11T09:12:56.024142Z"
    }
   },
   "outputs": [],
   "source": [
    "data_info={}\n",
    "data_info['word_ind']=word_ind\n",
    "data_info['word_len']=len(word_ind)+1"
   ]
  },
  {
   "cell_type": "code",
   "execution_count": 34,
   "metadata": {
    "execution": {
     "iopub.execute_input": "2021-07-11T09:12:57.429831Z",
     "iopub.status.busy": "2021-07-11T09:12:57.429505Z",
     "iopub.status.idle": "2021-07-11T09:12:58.762635Z",
     "shell.execute_reply": "2021-07-11T09:12:58.761816Z",
     "shell.execute_reply.started": "2021-07-11T09:12:57.429804Z"
    }
   },
   "outputs": [],
   "source": [
    "from keras.preprocessing.sequence import pad_sequences\n",
    "pad_train=pad_sequences(text_seq_tr, maxlen=400) \n",
    "pad_test=pad_sequences(text_seq_te, maxlen=400) "
   ]
  },
  {
   "cell_type": "code",
   "execution_count": 35,
   "metadata": {
    "execution": {
     "iopub.execute_input": "2021-07-11T09:12:58.764291Z",
     "iopub.status.busy": "2021-07-11T09:12:58.763921Z",
     "iopub.status.idle": "2021-07-11T09:12:58.802281Z",
     "shell.execute_reply": "2021-07-11T09:12:58.801413Z",
     "shell.execute_reply.started": "2021-07-11T09:12:58.764247Z"
    }
   },
   "outputs": [],
   "source": [
    "from sklearn.model_selection import train_test_split\n",
    "x_train, x_valid, y_train, y_valid = train_test_split(pad_train, train['sentiment'], random_state=77, test_size=0.07, stratify=train['sentiment'])"
   ]
  },
  {
   "cell_type": "markdown",
   "metadata": {},
   "source": [
    "## Modeling\n"
   ]
  },
  {
   "cell_type": "code",
   "execution_count": 36,
   "metadata": {
    "execution": {
     "iopub.execute_input": "2021-07-11T09:12:58.813293Z",
     "iopub.status.busy": "2021-07-11T09:12:58.812944Z",
     "iopub.status.idle": "2021-07-11T09:13:00.861029Z",
     "shell.execute_reply": "2021-07-11T09:13:00.860201Z",
     "shell.execute_reply.started": "2021-07-11T09:12:58.813258Z"
    }
   },
   "outputs": [],
   "source": [
    "from keras import Sequential\n",
    "from keras.layers import Dense, Embedding, Flatten\n",
    "\n",
    "model=Sequential()\n",
    "model.add(Embedding(101247,65, input_length=400))\n",
    "model.add(Flatten())\n",
    "model.add(Dense(2,activation='softmax'))\n",
    "model.compile(loss='sparse_categorical_crossentropy', optimizer='adam', metrics=['acc'] )"
   ]
  },
  {
   "cell_type": "code",
   "execution_count": 37,
   "metadata": {
    "execution": {
     "iopub.execute_input": "2021-07-11T09:13:00.862569Z",
     "iopub.status.busy": "2021-07-11T09:13:00.862222Z",
     "iopub.status.idle": "2021-07-11T09:13:59.899860Z",
     "shell.execute_reply": "2021-07-11T09:13:59.899072Z",
     "shell.execute_reply.started": "2021-07-11T09:13:00.862536Z"
    }
   },
   "outputs": [
    {
     "name": "stdout",
     "output_type": "stream",
     "text": [
      "Epoch 1/10\n",
      "182/182 [==============================] - 75s 374ms/step - loss: 0.4870 - acc: 0.7591 - val_loss: 0.2645 - val_acc: 0.9029\n",
      "Epoch 2/10\n",
      "182/182 [==============================] - 107s 591ms/step - loss: 0.1661 - acc: 0.9430 - val_loss: 0.2382 - val_acc: 0.9006\n",
      "Epoch 3/10\n",
      "182/182 [==============================] - 51s 279ms/step - loss: 0.0615 - acc: 0.9865 - val_loss: 0.2392 - val_acc: 0.9006\n",
      "Epoch 4/10\n",
      "182/182 [==============================] - 50s 274ms/step - loss: 0.0234 - acc: 0.9973 - val_loss: 0.2487 - val_acc: 0.8978\n",
      "Epoch 5/10\n",
      "182/182 [==============================] - 47s 258ms/step - loss: 0.0104 - acc: 0.9994 - val_loss: 0.2596 - val_acc: 0.8978\n",
      "Epoch 6/10\n",
      "182/182 [==============================] - 52s 283ms/step - loss: 0.0057 - acc: 0.9999 - val_loss: 0.2691 - val_acc: 0.8989\n"
     ]
    },
    {
     "data": {
      "text/plain": [
       "<keras.callbacks.History at 0x17d29e0b370>"
      ]
     },
     "execution_count": 37,
     "metadata": {},
     "output_type": "execute_result"
    }
   ],
   "source": [
    "from keras.callbacks import EarlyStopping, ModelCheckpoint\n",
    "es=EarlyStopping(patience=4) \n",
    "mc=ModelCheckpoint('best.h5',save_best_only=True)\n",
    "model.fit(x_train,y_train, batch_size=128, epochs=10, validation_data=[x_valid,y_valid], callbacks=[es,mc]) "
   ]
  },
  {
   "cell_type": "code",
   "execution_count": 38,
   "metadata": {
    "execution": {
     "iopub.execute_input": "2021-07-11T09:13:59.901387Z",
     "iopub.status.busy": "2021-07-11T09:13:59.901065Z",
     "iopub.status.idle": "2021-07-11T09:13:59.921629Z",
     "shell.execute_reply": "2021-07-11T09:13:59.920754Z",
     "shell.execute_reply.started": "2021-07-11T09:13:59.901353Z"
    }
   },
   "outputs": [],
   "source": [
    "model.load_weights('best.h5')"
   ]
  },
  {
   "cell_type": "code",
   "execution_count": 39,
   "metadata": {
    "execution": {
     "iopub.execute_input": "2021-07-11T09:13:59.923395Z",
     "iopub.status.busy": "2021-07-11T09:13:59.923016Z",
     "iopub.status.idle": "2021-07-11T09:14:00.765537Z",
     "shell.execute_reply": "2021-07-11T09:14:00.764681Z",
     "shell.execute_reply.started": "2021-07-11T09:13:59.923341Z"
    }
   },
   "outputs": [],
   "source": [
    "res=model.predict(pad_test, batch_size=128)"
   ]
  },
  {
   "cell_type": "code",
   "execution_count": 40,
   "metadata": {
    "execution": {
     "iopub.execute_input": "2021-07-11T09:14:00.767135Z",
     "iopub.status.busy": "2021-07-11T09:14:00.766810Z",
     "iopub.status.idle": "2021-07-11T09:14:00.773957Z",
     "shell.execute_reply": "2021-07-11T09:14:00.772968Z",
     "shell.execute_reply.started": "2021-07-11T09:14:00.767101Z"
    }
   },
   "outputs": [
    {
     "data": {
      "text/plain": [
       "array([[0.00356253, 0.99643743],\n",
       "       [0.9984724 , 0.00152757],\n",
       "       [0.38636   , 0.61364   ],\n",
       "       ...,\n",
       "       [0.97362447, 0.02637556],\n",
       "       [0.00754007, 0.99245995],\n",
       "       [0.62842107, 0.3715789 ]], dtype=float32)"
      ]
     },
     "execution_count": 40,
     "metadata": {},
     "output_type": "execute_result"
    }
   ],
   "source": [
    "res"
   ]
  },
  {
   "cell_type": "code",
   "execution_count": 41,
   "metadata": {
    "execution": {
     "iopub.execute_input": "2021-07-11T09:14:00.776221Z",
     "iopub.status.busy": "2021-07-11T09:14:00.775608Z",
     "iopub.status.idle": "2021-07-11T09:14:00.784297Z",
     "shell.execute_reply": "2021-07-11T09:14:00.783526Z",
     "shell.execute_reply.started": "2021-07-11T09:14:00.776178Z"
    }
   },
   "outputs": [],
   "source": [
    "sub['sentiment_pro']=res[:,1]"
   ]
  },
  {
   "cell_type": "code",
   "execution_count": 42,
   "metadata": {
    "execution": {
     "iopub.execute_input": "2021-07-11T09:14:00.786299Z",
     "iopub.status.busy": "2021-07-11T09:14:00.785893Z",
     "iopub.status.idle": "2021-07-11T09:14:00.796791Z",
     "shell.execute_reply": "2021-07-11T09:14:00.795910Z",
     "shell.execute_reply.started": "2021-07-11T09:14:00.786259Z"
    }
   },
   "outputs": [],
   "source": [
    "sub.loc[sub['sentiment_pro']>=0.5,\"sentiment\"]=1\n",
    "sub.loc[sub['sentiment_pro']<0.5,\"sentiment\"]=0"
   ]
  },
  {
   "cell_type": "markdown",
   "metadata": {},
   "source": [
    "- Use *`0.5 as thereshold`* to specify one or zero"
   ]
  },
  {
   "cell_type": "code",
   "execution_count": 43,
   "metadata": {
    "execution": {
     "iopub.execute_input": "2021-07-11T09:14:00.798467Z",
     "iopub.status.busy": "2021-07-11T09:14:00.797990Z",
     "iopub.status.idle": "2021-07-11T09:14:00.806341Z",
     "shell.execute_reply": "2021-07-11T09:14:00.805516Z",
     "shell.execute_reply.started": "2021-07-11T09:14:00.798430Z"
    }
   },
   "outputs": [],
   "source": [
    "sub=sub[['id','sentiment']]"
   ]
  },
  {
   "cell_type": "code",
   "execution_count": 44,
   "metadata": {
    "execution": {
     "iopub.execute_input": "2021-07-11T09:14:00.807968Z",
     "iopub.status.busy": "2021-07-11T09:14:00.807549Z",
     "iopub.status.idle": "2021-07-11T09:14:00.855585Z",
     "shell.execute_reply": "2021-07-11T09:14:00.854873Z",
     "shell.execute_reply.started": "2021-07-11T09:14:00.807933Z"
    }
   },
   "outputs": [],
   "source": [
    "sub.to_csv('result.csv',index=False)"
   ]
  },
  {
   "cell_type": "code",
   "execution_count": null,
   "metadata": {},
   "outputs": [],
   "source": []
  },
  {
   "cell_type": "code",
   "execution_count": null,
   "metadata": {},
   "outputs": [],
   "source": []
  }
 ],
 "metadata": {
  "kernelspec": {
   "display_name": "Python 3",
   "language": "python",
   "name": "python3"
  },
  "language_info": {
   "codemirror_mode": {
    "name": "ipython",
    "version": 3
   },
   "file_extension": ".py",
   "mimetype": "text/x-python",
   "name": "python",
   "nbconvert_exporter": "python",
   "pygments_lexer": "ipython3",
   "version": "3.8.5"
  }
 },
 "nbformat": 4,
 "nbformat_minor": 4
}
