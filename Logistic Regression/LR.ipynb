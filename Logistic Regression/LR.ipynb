{
 "cells": [
  {
   "cell_type": "markdown",
   "metadata": {},
   "source": [
    "## Load dataset"
   ]
  },
  {
   "cell_type": "code",
   "execution_count": 2,
   "metadata": {},
   "outputs": [
    {
     "name": "stdout",
     "output_type": "stream",
     "text": [
      "(25000, 3)\n"
     ]
    },
    {
     "data": {
      "text/html": [
       "<div>\n",
       "<style scoped>\n",
       "    .dataframe tbody tr th:only-of-type {\n",
       "        vertical-align: middle;\n",
       "    }\n",
       "\n",
       "    .dataframe tbody tr th {\n",
       "        vertical-align: top;\n",
       "    }\n",
       "\n",
       "    .dataframe thead th {\n",
       "        text-align: right;\n",
       "    }\n",
       "</style>\n",
       "<table border=\"1\" class=\"dataframe\">\n",
       "  <thead>\n",
       "    <tr style=\"text-align: right;\">\n",
       "      <th></th>\n",
       "      <th>id</th>\n",
       "      <th>sentiment</th>\n",
       "      <th>review</th>\n",
       "    </tr>\n",
       "  </thead>\n",
       "  <tbody>\n",
       "    <tr>\n",
       "      <th>0</th>\n",
       "      <td>\"5814_8\"</td>\n",
       "      <td>1</td>\n",
       "      <td>\"With all this stuff going down at the moment ...</td>\n",
       "    </tr>\n",
       "    <tr>\n",
       "      <th>1</th>\n",
       "      <td>\"2381_9\"</td>\n",
       "      <td>1</td>\n",
       "      <td>\"\\\"The Classic War of the Worlds\\\" by Timothy ...</td>\n",
       "    </tr>\n",
       "    <tr>\n",
       "      <th>2</th>\n",
       "      <td>\"7759_3\"</td>\n",
       "      <td>0</td>\n",
       "      <td>\"The film starts with a manager (Nicholas Bell...</td>\n",
       "    </tr>\n",
       "    <tr>\n",
       "      <th>3</th>\n",
       "      <td>\"3630_4\"</td>\n",
       "      <td>0</td>\n",
       "      <td>\"It must be assumed that those who praised thi...</td>\n",
       "    </tr>\n",
       "    <tr>\n",
       "      <th>4</th>\n",
       "      <td>\"9495_8\"</td>\n",
       "      <td>1</td>\n",
       "      <td>\"Superbly trashy and wondrously unpretentious ...</td>\n",
       "    </tr>\n",
       "  </tbody>\n",
       "</table>\n",
       "</div>"
      ],
      "text/plain": [
       "         id  sentiment                                             review\n",
       "0  \"5814_8\"          1  \"With all this stuff going down at the moment ...\n",
       "1  \"2381_9\"          1  \"\\\"The Classic War of the Worlds\\\" by Timothy ...\n",
       "2  \"7759_3\"          0  \"The film starts with a manager (Nicholas Bell...\n",
       "3  \"3630_4\"          0  \"It must be assumed that those who praised thi...\n",
       "4  \"9495_8\"          1  \"Superbly trashy and wondrously unpretentious ..."
      ]
     },
     "execution_count": 2,
     "metadata": {},
     "output_type": "execute_result"
    }
   ],
   "source": [
    "import pandas as pd       \n",
    "training = pd.read_csv(\"../data/labeledTrainData.tsv.zip\", header=0, \\\n",
    "                       delimiter=\"\\t\", quoting=3)\n",
    "print(training.shape)\n",
    "\n",
    "y_train = training['sentiment']\n",
    "x_train = training.drop([\"sentiment\"], axis=1)\n",
    "                      \n",
    "training.head()"
   ]
  },
  {
   "cell_type": "code",
   "execution_count": 19,
   "metadata": {},
   "outputs": [
    {
     "data": {
      "text/plain": [
       "count    25000.000000\n",
       "mean      1329.710560\n",
       "std       1005.239246\n",
       "min         54.000000\n",
       "25%        705.000000\n",
       "50%        983.000000\n",
       "75%       1619.000000\n",
       "max      13710.000000\n",
       "Name: review, dtype: float64"
      ]
     },
     "execution_count": 19,
     "metadata": {},
     "output_type": "execute_result"
    }
   ],
   "source": [
    "train_len=training['review'].apply(len)\n",
    "train_len.describe()"
   ]
  },
  {
   "cell_type": "markdown",
   "metadata": {},
   "source": [
    "## Data exploration"
   ]
  },
  {
   "cell_type": "code",
   "execution_count": 3,
   "metadata": {},
   "outputs": [
    {
     "name": "stderr",
     "output_type": "stream",
     "text": [
      "C:\\Users\\Admin_PC\\anaconda3\\lib\\site-packages\\seaborn\\_decorators.py:36: FutureWarning: Pass the following variable as a keyword arg: x. From version 0.12, the only valid positional argument will be `data`, and passing other arguments without an explicit keyword will result in an error or misinterpretation.\n",
      "  warnings.warn(\n"
     ]
    },
    {
     "data": {
      "text/plain": [
       "<AxesSubplot:xlabel='sentiment', ylabel='count'>"
      ]
     },
     "execution_count": 3,
     "metadata": {},
     "output_type": "execute_result"
    },
    {
     "data": {
      "image/png": "[encoded data removed]",
      "text/plain": [
       "<Figure size 432x288 with 1 Axes>"
      ]
     },
     "metadata": {
      "needs_background": "light"
     },
     "output_type": "display_data"
    }
   ],
   "source": [
    "import seaborn as sns\n",
    "sns.countplot(y_train)"
   ]
  },
  {
   "cell_type": "code",
   "execution_count": 4,
   "metadata": {},
   "outputs": [
    {
     "data": {
      "image/png": "[encoded data removed]",
      "text/plain": [
       "<Figure size 720x216 with 1 Axes>"
      ]
     },
     "metadata": {
      "needs_background": "light"
     },
     "output_type": "display_data"
    }
   ],
   "source": [
    "import matplotlib.pyplot as plt \n",
    "import numpy as np\n",
    "\n",
    "avg_pos_reviews = training[training.sentiment==1].review.apply(lambda x: len(x.split())).mean()\n",
    "avg_neg_reviews = training[training.sentiment==0].review.apply(lambda x: len(x.split())).mean()\n",
    "\n",
    "plt.figure(figsize=(10, 3))\n",
    "plt.barh(['Positive', 'Negative'], [avg_pos_reviews, avg_neg_reviews], height=0.5)\n",
    "plt.xticks(np.arange(0, 300, 25))\n",
    "plt.xlabel('Average Words')\n",
    "plt.ylabel('Sentiment')\n",
    "plt.show()"
   ]
  },
  {
   "cell_type": "markdown",
   "metadata": {},
   "source": [
    "## Data Preprocessing"
   ]
  },
  {
   "cell_type": "code",
   "execution_count": 5,
   "metadata": {},
   "outputs": [],
   "source": [
    "import nltk\n",
    "import numpy as np\n",
    "import matplotlib.pyplot as plt"
   ]
  },
  {
   "cell_type": "markdown",
   "metadata": {},
   "source": [
    "#### Stopwords"
   ]
  },
  {
   "cell_type": "code",
   "execution_count": 6,
   "metadata": {},
   "outputs": [
    {
     "name": "stdout",
     "output_type": "stream",
     "text": [
      "List of stopwords:\n",
      "{'then', 'out', 'he', 'can', 'mustn', \"aren't\", 'against', 'this', 'themselves', 'further', 'had', \"haven't\", \"you'll\", 'such', 'we', \"you've\", 'himself', 'during', \"mightn't\", \"wasn't\", 'weren', \"shouldn't\", 'those', 'above', 'm', 't', 'haven', 'because', 'at', 'too', 'was', 'now', 'below', 'to', 'has', 'didn', 'yourselves', 'did', 'is', 'our', \"weren't\", 'what', 'there', 'o', 're', 'by', 'wouldn', 'ma', 'some', 'them', \"don't\", 'be', 'or', \"she's\", 'she', 'having', 'about', 'when', 'you', 'd', \"isn't\", 'how', 'before', 'doesn', 'won', 'are', 'and', 'same', 'ours', 'i', 'not', 'own', 'isn', 'than', \"won't\", 'wasn', 'between', 'few', 'each', 'they', 'been', 'here', 'shan', 'more', \"didn't\", 'which', 'over', 'does', 'very', 'couldn', 'the', 'yours', 'am', 'under', 'from', \"you'd\", 've', 'who', 'hers', 'myself', 'have', \"needn't\", 'being', 'where', 'as', 'down', 'most', 'no', \"wouldn't\", 'while', 'so', 'its', 'that', \"should've\", 'nor', 'a', 'only', 'it', 'hasn', 'with', 'my', \"shan't\", 'mightn', 'in', 'other', 'needn', 'why', 'both', 'y', \"mustn't\", \"doesn't\", 'his', 'their', 'up', 'once', \"you're\", 'your', 'll', 'of', 'but', 'until', 'all', 'just', 'aren', \"hasn't\", 'will', 'again', 'into', 'me', \"that'll\", 'him', 'after', \"couldn't\", 's', 'doing', 'hadn', \"hadn't\", \"it's\", 'shouldn', 'should', 'ain', 'itself', 'ourselves', 'yourself', 'herself', 'whom', 'don', 'off', 'on', 'for', 'do', 'any', 'her', 'theirs', 'these', 'if', 'were', 'an', 'through'}\n",
      "\n",
      "Final list of stopwords:\n",
      "{'then', 'out', 'he', 'can', 'against', 'this', 'themselves', 'further', 'had', \"you'll\", 'such', 'we', \"you've\", 'himself', 'during', 'those', 'above', 'm', 't', 'because', 'at', 'too', 'was', 'now', 'below', 'to', 'has', 'yourselves', 'did', 'is', 'our', 'what', 'there', 'o', 're', 'by', 'some', 'them', 'be', 'or', \"she's\", 'she', 'having', 'about', 'when', 'you', 'd', 'how', 'before', 'won', 'are', 'and', 'same', 'ours', 'i', 'own', 'than', 'between', 'few', 'each', 'they', 'been', 'here', 'more', 'which', 'over', 'does', 'very', 'the', 'yours', 'am', 'under', 'from', \"you'd\", 've', 'who', 'hers', 'myself', 'have', 'being', 'where', 'as', 'down', 'most', 'no', 'while', 'so', 'its', 'that', \"should've\", 'nor', 'a', 'only', 'it', 'with', 'my', 'in', 'other', 'why', 'both', 'y', 'his', 'their', 'up', 'once', \"you're\", 'your', 'll', 'of', 'but', 'until', 'all', 'just', 'will', 'again', 'into', 'me', \"that'll\", 'him', 'after', 's', 'doing', \"it's\", 'should', 'itself', 'ourselves', 'yourself', 'herself', 'whom', 'off', 'on', 'for', 'do', 'any', 'her', 'theirs', 'these', 'if', 'were', 'an', 'through'}\n"
     ]
    }
   ],
   "source": [
    "from nltk.corpus import stopwords\n",
    "\n",
    "stopwords_list = set(stopwords.words(\"english\"))\n",
    "print(f'List of stopwords:\\n{stopwords_list}\\n')\n",
    "\n",
    "no_stopwords = [\"not\",\"don't\",'aren','don','ain',\"aren't\", 'couldn', \"couldn't\", 'didn', \"didn't\", 'doesn', \"doesn't\", 'hadn', \"hadn't\", 'hasn', \"hasn't\", 'haven', \"haven't\", 'isn', \"isn't\",\n",
    "               'ma', 'mightn', \"mightn't\", 'mustn', \"mustn't\", 'needn', \"needn't\", 'shan', \"shan't\", 'shouldn', \"shouldn't\", 'wasn', \"wasn't\", 'weren', \"weren't\",\n",
    "               \"won't\", 'wouldn', \"wouldn't\"]\n",
    "for no_stopword in no_stopwords:\n",
    "    stopwords_list.remove(no_stopword)\n",
    "    \n",
    "print(f'Final list of stopwords:\\n{stopwords_list}')"
   ]
  },
  {
   "cell_type": "markdown",
   "metadata": {},
   "source": [
    "#### Lemmatize"
   ]
  },
  {
   "cell_type": "code",
   "execution_count": 7,
   "metadata": {},
   "outputs": [],
   "source": [
    "from nltk.stem import WordNetLemmatizer\n",
    "\n",
    "lemmatizer = WordNetLemmatizer()\n",
    "\n",
    "def lemma_stem_text(words_list):\n",
    "    # Lemmatizer\n",
    "    text = [lemmatizer.lemmatize(token.lower()) for token in words_list]# eighties->eight or messages->message or drugs->drug\n",
    "    text = [lemmatizer.lemmatize(token.lower(), \"v\") for token in text]# going-> go or started->start or watching->watch\n",
    "    return text"
   ]
  },
  {
   "cell_type": "markdown",
   "metadata": {},
   "source": [
    "#### Negations"
   ]
  },
  {
   "cell_type": "code",
   "execution_count": 8,
   "metadata": {},
   "outputs": [],
   "source": [
    "import re\n",
    "re_negation = re.compile(\"n't \")\n",
    "\n",
    "def negation_abbreviated_to_standard(sent):\n",
    "    sent = re_negation.sub(\" not \", sent)\n",
    "    return sent"
   ]
  },
  {
   "cell_type": "code",
   "execution_count": 9,
   "metadata": {},
   "outputs": [],
   "source": [
    "# Import function BeautifulSoup to clean text of HTML tags\n",
    "from bs4 import BeautifulSoup \n",
    "\n",
    "def review_to_words(raw_review):\n",
    "    # 1. Remove HTML tags\n",
    "    review_text = BeautifulSoup(raw_review).get_text() \n",
    "    \n",
    "    # 2. Transform abbreviated negations to the standard form.\n",
    "    review_text = negation_abbreviated_to_standard(review_text)\n",
    "    \n",
    "    # 3. Remove non-letters and non-numbers   \n",
    "    letters_numbers_only = re.sub(\"[^a-zA-Z_0-9]\", \" \", review_text) \n",
    "    \n",
    "    # 4. Convert to lower case and split into individual words (tokenization)\n",
    "    words = np.char.lower(letters_numbers_only.split())                             \n",
    "    \n",
    "    # 5. Remove stop words\n",
    "    meaningful_words = [w for w in words if not w in stopwords_list]   \n",
    "    \n",
    "    # 6. Apply lemmatization function\n",
    "    lemma_words = lemma_stem_text(meaningful_words)\n",
    "    \n",
    "    # 7. Join the words back into one string separated by space, and return the result.\n",
    "    return( \" \".join(lemma_words))   "
   ]
  },
  {
   "cell_type": "code",
   "execution_count": 10,
   "metadata": {},
   "outputs": [
    {
     "name": "stdout",
     "output_type": "stream",
     "text": [
      "Text of original review:\n",
      "\"With all this stuff going down at the moment with MJ i've started listening to his music, watching the odd documentary here and there, watched The Wiz and watched Moonwalker again. Maybe i just want to get a certain insight into this guy who i thought was really cool in the eighties just to maybe make up my mind whether he is guilty or innocent. Moonwalker is part biography, part feature film which i remember going to see at the cinema when it was originally released. Some of it has subtle messages about MJ's feeling towards the press and also the obvious message of drugs are bad m'kay.<br /><br />Visually impressive but of course this is all about Michael Jackson so unless you remotely like MJ in anyway then you are going to hate this and find it boring. Some may call MJ an egotist for consenting to the making of this movie BUT MJ and most of his fans would say that he made it for the fans which if true is really nice of him.<br /><br />The actual feature film bit when it finally starts is only on for 20 minutes or so excluding the Smooth Criminal sequence and Joe Pesci is convincing as a psychopathic all powerful drug lord. Why he wants MJ dead so bad is beyond me. Because MJ overheard his plans? Nah, Joe Pesci's character ranted that he wanted people to know it is he who is supplying drugs etc so i dunno, maybe he just hates MJ's music.<br /><br />Lots of cool things in this like MJ turning into a car and a robot and the whole Speed Demon sequence. Also, the director must have had the patience of a saint when it came to filming the kiddy Bad sequence as usually directors hate working with one kid let alone a whole bunch of them performing a complex dance scene.<br /><br />Bottom line, this movie is for people who like MJ on one level or another (which i think is most people). If not, then stay away. It does try and give off a wholesome message and ironically MJ's bestest buddy in this movie is a girl! Michael Jackson is truly one of the most talented people ever to grace this planet but is he guilty? Well, with all the attention i've gave this subject....hmmm well i don't know because people can be different behind closed doors, i know this for a fact. He is either an extremely nice but stupid guy or one of the most sickest liars. I hope he is not the latter.\"\n",
      "\n",
      "Sentiment review: 1\n",
      "\n",
      "Text of cleaned review:\n",
      "stuff go moment mj start listen music watch odd documentary watch wiz watch moonwalker maybe want get certain insight guy think really cool eighty maybe make mind whether guilty innocent moonwalker part biography part feature film remember go see cinema originally release subtle message mj feel towards press also obvious message drug bad kay visually impressive course michael jackson unless remotely like mj anyway go hate find bore may call mj egotist consent make movie mj fan would say make fan true really nice actual feature film bite finally start 20 minute exclude smooth criminal sequence joe pesci convince psychopathic powerful drug lord want mj dead bad beyond mj overhear plan nah joe pesci character rant want people know supply drug etc dunno maybe hate mj music lot cool thing like mj turn car robot whole speed demon sequence also director must patience saint come film kiddy bad sequence usually director hate work one kid let alone whole bunch perform complex dance scene bottom line movie people like mj one level another think people not stay away try give wholesome message ironically mj bestest buddy movie girl michael jackson truly one talented people ever grace planet guilty well attention give subject hmmm well not know people different behind close door know fact either extremely nice stupid guy one sickest liar hope not latter\n"
     ]
    }
   ],
   "source": [
    "clean_review = review_to_words(x_train[\"review\"][0] )\n",
    "\n",
    "# Print original review, sentiment and cleaned review\n",
    "print(f'Text of original review:\\n{x_train[\"review\"][0]}\\n')\n",
    "print(f'Sentiment review: {y_train[0]}\\n')\n",
    "print(f'Text of cleaned review:\\n{clean_review}') "
   ]
  },
  {
   "cell_type": "markdown",
   "metadata": {},
   "source": [
    "We clean the text of all reviews in the training set."
   ]
  },
  {
   "cell_type": "code",
   "execution_count": 11,
   "metadata": {},
   "outputs": [],
   "source": [
    "reviews = x_train['review']\n",
    "\n",
    "cleaned_train_reviews = []\n",
    "\n",
    "for i in reviews:\n",
    "    cleaned_train_reviews.append(review_to_words(i))"
   ]
  },
  {
   "cell_type": "markdown",
   "metadata": {},
   "source": [
    "## Vectorization"
   ]
  },
  {
   "cell_type": "code",
   "execution_count": 12,
   "metadata": {},
   "outputs": [
    {
     "name": "stdout",
     "output_type": "stream",
     "text": [
      "(25000, 20000)\n"
     ]
    }
   ],
   "source": [
    "# Import tf-idf encoding from sklearn library\n",
    "from sklearn.feature_extraction.text import TfidfVectorizer\n",
    "\n",
    "# Define some hiperparameters of encoded\n",
    "vectorizer = TfidfVectorizer(max_features=20000, ngram_range = (1,2))\n",
    "\n",
    "# Create the training set with the words encoded as features of the reviews\n",
    "train_data_features = vectorizer.fit_transform(cleaned_train_reviews)\n",
    "\n",
    "print(train_data_features.shape)"
   ]
  },
  {
   "cell_type": "markdown",
   "metadata": {},
   "source": [
    "## Model"
   ]
  },
  {
   "cell_type": "code",
   "execution_count": 13,
   "metadata": {},
   "outputs": [
    {
     "name": "stderr",
     "output_type": "stream",
     "text": [
      "C:\\Users\\Admin_PC\\anaconda3\\lib\\site-packages\\sklearn\\linear_model\\_logistic.py:762: ConvergenceWarning: lbfgs failed to converge (status=1):\n",
      "STOP: TOTAL NO. of ITERATIONS REACHED LIMIT.\n",
      "\n",
      "Increase the number of iterations (max_iter) or scale the data as shown in:\n",
      "    https://scikit-learn.org/stable/modules/preprocessing.html\n",
      "Please also refer to the documentation for alternative solver options:\n",
      "    https://scikit-learn.org/stable/modules/linear_model.html#logistic-regression\n",
      "  n_iter_i = _check_optimize_result(\n"
     ]
    },
    {
     "data": {
      "text/plain": [
       "LogisticRegression(multi_class='multinomial', random_state=0)"
      ]
     },
     "execution_count": 13,
     "metadata": {},
     "output_type": "execute_result"
    }
   ],
   "source": [
    "# Import the logistic regression model from sklearn \n",
    "from sklearn.linear_model import LogisticRegression\n",
    "\n",
    "# Define the model\n",
    "model = LogisticRegression(random_state=0, solver='lbfgs',\n",
    "                            multi_class='multinomial')\n",
    "# Train model\n",
    "model.fit(train_data_features, y_train)\n"
   ]
  },
  {
   "cell_type": "markdown",
   "metadata": {},
   "source": [
    "## Predictions in Test dataset"
   ]
  },
  {
   "cell_type": "code",
   "execution_count": null,
   "metadata": {},
   "outputs": [],
   "source": [
    "test = pd.read_csv(\"../input/word2vec-nlp-tutorial/testData.tsv.zip\", header=0, delimiter=\"\\t\", \\\n",
    "                   quoting=3 )\n",
    "print(test.shape)\n",
    "\n",
    "num_reviews = len(test[\"review\"])\n",
    "clean_test_reviews = [] \n",
    "\n",
    "print(\"Cleaning and parsing the test set movie reviews...\\n\")\n",
    "for i in range(0,num_reviews):\n",
    "    clean_review = review_to_words( test[\"review\"][i] )\n",
    "    clean_test_reviews.append( clean_review )\n",
    "\n",
    "test_data_features = vectorizer.transform(clean_test_reviews)\n",
    "\n",
    "\n",
    "result = model.predict(test_data_features)\n",
    "\n",
    "output = pd.DataFrame( data={\"id\":test[\"id\"], \"sentiment\":result} )"
   ]
  },
  {
   "cell_type": "code",
   "execution_count": 15,
   "metadata": {},
   "outputs": [],
   "source": [
    "output.to_csv(\"result.csv\", index=False, quoting=3 )"
   ]
  },
  {
   "cell_type": "code",
   "execution_count": 20,
   "metadata": {},
   "outputs": [],
   "source": [
    "from sklearn.model_selection import train_test_split\n",
    "X_train, X_test, y_train, y_test = train_test_split(train_data_features, y_train, test_size=0.2, random_state=42)"
   ]
  },
  {
   "cell_type": "code",
   "execution_count": 21,
   "metadata": {},
   "outputs": [
    {
     "name": "stdout",
     "output_type": "stream",
     "text": [
      "0.8976\n"
     ]
    }
   ],
   "source": [
    "logistic = LogisticRegression(random_state=0, solver='lbfgs',\n",
    "                            multi_class='multinomial')\n",
    "\n",
    "logistic = logistic.fit(X_train, y_train)\n",
    "\n",
    "print(logistic.score(X_test, y_test))"
   ]
  },
  {
   "cell_type": "code",
   "execution_count": null,
   "metadata": {},
   "outputs": [],
   "source": []
  }
 ],
 "metadata": {
  "kernelspec": {
   "display_name": "Python 3",
   "language": "python",
   "name": "python3"
  },
  "language_info": {
   "codemirror_mode": {
    "name": "ipython",
    "version": 3
   },
   "file_extension": ".py",
   "mimetype": "text/x-python",
   "name": "python",
   "nbconvert_exporter": "python",
   "pygments_lexer": "ipython3",
   "version": "3.8.5"
  }
 },
 "nbformat": 4,
 "nbformat_minor": 4
}
