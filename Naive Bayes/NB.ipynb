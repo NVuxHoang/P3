{
 "cells": [
  {
   "cell_type": "markdown",
   "metadata": {},
   "source": [
    "## Load dataset"
   ]
  },
  {
   "cell_type": "code",
   "execution_count": 25,
   "metadata": {
    "_cell_guid": "b1076dfc-b9ad-4769-8c92-a6c4dae69d19",
    "_uuid": "8f2839f25d086af736a60e9eeb907d3b93b6e0e5",
    "execution": {
     "iopub.execute_input": "2020-11-11T12:41:03.169313Z",
     "iopub.status.busy": "2020-11-11T12:41:03.168516Z",
     "iopub.status.idle": "2020-11-11T12:41:03.175133Z",
     "shell.execute_reply": "2020-11-11T12:41:03.174106Z"
    },
    "papermill": {
     "duration": 0.051906,
     "end_time": "2020-11-11T12:41:03.175347",
     "exception": false,
     "start_time": "2020-11-11T12:41:03.123441",
     "status": "completed"
    },
    "tags": []
   },
   "outputs": [],
   "source": [
    "import numpy as np \n",
    "import pandas as pd\n",
    "\n",
    "train = pd.read_csv('../data/labeledTrainData.tsv.zip', delimiter=\"\\t\")\n",
    "test = pd.read_csv(\"../data/testData.tsv.zip\",delimiter= \"\\t\")\n",
    "\n",
    "train = train.drop(['id'], axis=1)"
   ]
  },
  {
   "cell_type": "code",
   "execution_count": 26,
   "metadata": {
    "execution": {
     "iopub.execute_input": "2020-11-11T12:41:07.618609Z",
     "iopub.status.busy": "2020-11-11T12:41:07.613514Z",
     "iopub.status.idle": "2020-11-11T12:41:08.429032Z",
     "shell.execute_reply": "2020-11-11T12:41:08.429711Z"
    },
    "papermill": {
     "duration": 0.90232,
     "end_time": "2020-11-11T12:41:08.429871",
     "exception": false,
     "start_time": "2020-11-11T12:41:07.527551",
     "status": "completed"
    },
    "tags": []
   },
   "outputs": [],
   "source": [
    "train['word_n'] = train['review'].apply(lambda x : len(x.split(' ')))\n",
    "test[\"word_n\"] = test[\"review\"].apply(lambda x : len(x.split(\" \")))"
   ]
  },
  {
   "cell_type": "markdown",
   "metadata": {},
   "source": [
    "## Data Preprocessing"
   ]
  },
  {
   "cell_type": "code",
   "execution_count": 27,
   "metadata": {
    "execution": {
     "iopub.execute_input": "2020-11-11T12:41:54.360643Z",
     "iopub.status.busy": "2020-11-11T12:41:54.359600Z",
     "iopub.status.idle": "2020-11-11T12:41:54.362470Z",
     "shell.execute_reply": "2020-11-11T12:41:54.363156Z"
    },
    "papermill": {
     "duration": 0.063633,
     "end_time": "2020-11-11T12:41:54.363336",
     "exception": false,
     "start_time": "2020-11-11T12:41:54.299703",
     "status": "completed"
    },
    "tags": []
   },
   "outputs": [],
   "source": [
    "import re\n",
    "import json"
   ]
  },
  {
   "cell_type": "markdown",
   "metadata": {
    "papermill": {
     "duration": 0.054769,
     "end_time": "2020-11-11T12:41:54.473460",
     "exception": false,
     "start_time": "2020-11-11T12:41:54.418691",
     "status": "completed"
    },
    "tags": []
   },
   "source": [
    "Using regrex library, we can remove the **html** tags easily from the sentiments"
   ]
  },
  {
   "cell_type": "code",
   "execution_count": 28,
   "metadata": {
    "execution": {
     "iopub.execute_input": "2020-11-11T12:41:54.590899Z",
     "iopub.status.busy": "2020-11-11T12:41:54.589830Z",
     "iopub.status.idle": "2020-11-11T12:41:54.593076Z",
     "shell.execute_reply": "2020-11-11T12:41:54.592380Z"
    },
    "papermill": {
     "duration": 0.064581,
     "end_time": "2020-11-11T12:41:54.593224",
     "exception": false,
     "start_time": "2020-11-11T12:41:54.528643",
     "status": "completed"
    },
    "tags": []
   },
   "outputs": [],
   "source": [
    "TAG_RE = re.compile(r'<[^>]+>')"
   ]
  },
  {
   "cell_type": "code",
   "execution_count": 29,
   "metadata": {
    "execution": {
     "iopub.execute_input": "2020-11-11T12:41:54.726366Z",
     "iopub.status.busy": "2020-11-11T12:41:54.721389Z",
     "iopub.status.idle": "2020-11-11T12:41:54.893093Z",
     "shell.execute_reply": "2020-11-11T12:41:54.892264Z"
    },
    "papermill": {
     "duration": 0.24466,
     "end_time": "2020-11-11T12:41:54.893250",
     "exception": false,
     "start_time": "2020-11-11T12:41:54.648590",
     "status": "completed"
    },
    "tags": []
   },
   "outputs": [],
   "source": [
    "train['review']=train['review'].apply(lambda x:TAG_RE.sub('', x))\n",
    "test['review']=test['review'].apply(lambda x: TAG_RE.sub('', x))"
   ]
  },
  {
   "cell_type": "code",
   "execution_count": 30,
   "metadata": {
    "execution": {
     "iopub.execute_input": "2020-11-11T12:42:39.394358Z",
     "iopub.status.busy": "2020-11-11T12:42:39.357345Z",
     "iopub.status.idle": "2020-11-11T12:42:46.080744Z",
     "shell.execute_reply": "2020-11-11T12:42:46.079891Z"
    },
    "papermill": {
     "duration": 6.834139,
     "end_time": "2020-11-11T12:42:46.080873",
     "exception": false,
     "start_time": "2020-11-11T12:42:39.246734",
     "status": "completed"
    },
    "tags": []
   },
   "outputs": [],
   "source": [
    "train['review']=train['review'].apply(lambda x: re.sub(\"[^a-zA-Z]\",\" \",x))\n",
    "test['review']=test['review'].apply(lambda x: re.sub(\"[^a-zA-Z]\",\" \",x))"
   ]
  },
  {
   "cell_type": "code",
   "execution_count": 31,
   "metadata": {
    "execution": {
     "iopub.execute_input": "2020-11-11T12:42:46.583795Z",
     "iopub.status.busy": "2020-11-11T12:42:46.562931Z",
     "iopub.status.idle": "2020-11-11T12:42:47.745860Z",
     "shell.execute_reply": "2020-11-11T12:42:47.746473Z"
    },
    "papermill": {
     "duration": 1.263968,
     "end_time": "2020-11-11T12:42:47.746646",
     "exception": false,
     "start_time": "2020-11-11T12:42:46.482678",
     "status": "completed"
    },
    "scrolled": true,
    "tags": []
   },
   "outputs": [],
   "source": [
    "train['word_n_2'] = train['review'].apply(lambda x : len(x.split(' ')))\n",
    "test['word_n_2'] = test['review'].apply(lambda x : len(x.split(' ')))"
   ]
  },
  {
   "cell_type": "code",
   "execution_count": 32,
   "metadata": {
    "execution": {
     "iopub.execute_input": "2020-11-11T12:42:47.888066Z",
     "iopub.status.busy": "2020-11-11T12:42:47.887048Z",
     "iopub.status.idle": "2020-11-11T12:42:48.836927Z",
     "shell.execute_reply": "2020-11-11T12:42:48.836136Z"
    },
    "papermill": {
     "duration": 1.022301,
     "end_time": "2020-11-11T12:42:48.837051",
     "exception": false,
     "start_time": "2020-11-11T12:42:47.814750",
     "status": "completed"
    },
    "tags": []
   },
   "outputs": [],
   "source": [
    "# from nltk.stem import WordNetLemmatizer\n",
    "from nltk.corpus import stopwords\n",
    "\n",
    "stop_words = set(stopwords.words(\"english\")) \n",
    "# lemmatizer = WordNetLemmatizer()"
   ]
  },
  {
   "cell_type": "code",
   "execution_count": 33,
   "metadata": {
    "execution": {
     "iopub.execute_input": "2020-11-11T12:42:49.016087Z",
     "iopub.status.busy": "2020-11-11T12:42:49.010892Z",
     "iopub.status.idle": "2020-11-11T12:42:50.515129Z",
     "shell.execute_reply": "2020-11-11T12:42:50.514335Z"
    },
    "papermill": {
     "duration": 1.610337,
     "end_time": "2020-11-11T12:42:50.515278",
     "exception": false,
     "start_time": "2020-11-11T12:42:48.904941",
     "status": "completed"
    },
    "tags": []
   },
   "outputs": [],
   "source": [
    "train[\"review\"]=train['review'].apply(lambda x: ' '.join([word for word in x.split() if word not in (stop_words)]))"
   ]
  },
  {
   "cell_type": "code",
   "execution_count": 34,
   "metadata": {
    "execution": {
     "iopub.execute_input": "2020-11-11T12:42:50.680940Z",
     "iopub.status.busy": "2020-11-11T12:42:50.660139Z",
     "iopub.status.idle": "2020-11-11T12:42:52.132143Z",
     "shell.execute_reply": "2020-11-11T12:42:52.132795Z"
    },
    "papermill": {
     "duration": 1.549122,
     "end_time": "2020-11-11T12:42:52.132971",
     "exception": false,
     "start_time": "2020-11-11T12:42:50.583849",
     "status": "completed"
    },
    "tags": []
   },
   "outputs": [],
   "source": [
    "test[\"review\"]=test['review'].apply(lambda x: ' '.join([word for word in x.split() if word not in (stop_words)]))"
   ]
  },
  {
   "cell_type": "code",
   "execution_count": 35,
   "metadata": {},
   "outputs": [
    {
     "data": {
      "text/plain": [
       "-1    25000\n",
       "Name: review, dtype: int64"
      ]
     },
     "execution_count": 35,
     "metadata": {},
     "output_type": "execute_result"
    }
   ],
   "source": [
    "train[\"review\"].str.find(\"?\").value_counts()"
   ]
  },
  {
   "cell_type": "code",
   "execution_count": 36,
   "metadata": {
    "execution": {
     "iopub.execute_input": "2020-11-11T12:42:52.277567Z",
     "iopub.status.busy": "2020-11-11T12:42:52.276747Z",
     "iopub.status.idle": "2020-11-11T12:42:52.281705Z",
     "shell.execute_reply": "2020-11-11T12:42:52.282312Z"
    },
    "papermill": {
     "duration": 0.080595,
     "end_time": "2020-11-11T12:42:52.282470",
     "exception": false,
     "start_time": "2020-11-11T12:42:52.201875",
     "status": "completed"
    },
    "tags": []
   },
   "outputs": [],
   "source": [
    "test1=test.drop([\"word_n\",\"word_n_2\",\"id\"],axis=1)"
   ]
  },
  {
   "cell_type": "code",
   "execution_count": 37,
   "metadata": {
    "execution": {
     "iopub.execute_input": "2020-11-11T12:42:52.426149Z",
     "iopub.status.busy": "2020-11-11T12:42:52.425423Z",
     "iopub.status.idle": "2020-11-11T12:42:52.430816Z",
     "shell.execute_reply": "2020-11-11T12:42:52.431368Z"
    },
    "papermill": {
     "duration": 0.080327,
     "end_time": "2020-11-11T12:42:52.431526",
     "exception": false,
     "start_time": "2020-11-11T12:42:52.351199",
     "status": "completed"
    },
    "tags": []
   },
   "outputs": [],
   "source": [
    "X=train.drop([\"word_n\",\"word_n_2\",\"sentiment\"],axis=1)"
   ]
  },
  {
   "cell_type": "code",
   "execution_count": 38,
   "metadata": {
    "execution": {
     "iopub.execute_input": "2020-11-11T12:42:52.732289Z",
     "iopub.status.busy": "2020-11-11T12:42:52.731492Z",
     "iopub.status.idle": "2020-11-11T12:42:52.734273Z",
     "shell.execute_reply": "2020-11-11T12:42:52.733568Z"
    },
    "papermill": {
     "duration": 0.080809,
     "end_time": "2020-11-11T12:42:52.734399",
     "exception": false,
     "start_time": "2020-11-11T12:42:52.653590",
     "status": "completed"
    },
    "tags": []
   },
   "outputs": [],
   "source": [
    "Y=train.drop([\"word_n\",\"word_n_2\",\"review\"],axis=1)"
   ]
  },
  {
   "cell_type": "code",
   "execution_count": 39,
   "metadata": {
    "execution": {
     "iopub.execute_input": "2020-11-11T12:42:53.062575Z",
     "iopub.status.busy": "2020-11-11T12:42:53.047038Z",
     "iopub.status.idle": "2020-11-11T12:42:57.277287Z",
     "shell.execute_reply": "2020-11-11T12:42:57.276462Z"
    },
    "papermill": {
     "duration": 4.320205,
     "end_time": "2020-11-11T12:42:57.277414",
     "exception": false,
     "start_time": "2020-11-11T12:42:52.957209",
     "status": "completed"
    },
    "tags": []
   },
   "outputs": [],
   "source": [
    "from sklearn.feature_extraction.text import CountVectorizer\n",
    "from nltk.tokenize import RegexpTokenizer\n",
    "#tokenizer to remove unwanted elements from out data like symbols and numbers\n",
    "token = RegexpTokenizer(r'[a-zA-Z0-9]+')\n",
    "cv = CountVectorizer(lowercase=True,stop_words='english',ngram_range = (1,1),tokenizer = token.tokenize)\n",
    "text_counts= cv.fit_transform(train[\"review\"])"
   ]
  },
  {
   "cell_type": "code",
   "execution_count": 40,
   "metadata": {
    "execution": {
     "iopub.execute_input": "2020-11-11T12:42:57.426657Z",
     "iopub.status.busy": "2020-11-11T12:42:57.425789Z",
     "iopub.status.idle": "2020-11-11T12:42:57.430229Z",
     "shell.execute_reply": "2020-11-11T12:42:57.429589Z"
    },
    "papermill": {
     "duration": 0.081338,
     "end_time": "2020-11-11T12:42:57.430351",
     "exception": false,
     "start_time": "2020-11-11T12:42:57.349013",
     "status": "completed"
    },
    "tags": []
   },
   "outputs": [
    {
     "data": {
      "text/plain": [
       "<25000x73903 sparse matrix of type '<class 'numpy.int64'>'\n",
       "\twith 2163574 stored elements in Compressed Sparse Row format>"
      ]
     },
     "execution_count": 40,
     "metadata": {},
     "output_type": "execute_result"
    }
   ],
   "source": [
    "text_counts"
   ]
  },
  {
   "cell_type": "markdown",
   "metadata": {},
   "source": [
    "## Vectorization"
   ]
  },
  {
   "cell_type": "code",
   "execution_count": 41,
   "metadata": {
    "execution": {
     "iopub.execute_input": "2020-11-11T12:42:57.617213Z",
     "iopub.status.busy": "2020-11-11T12:42:57.611918Z",
     "iopub.status.idle": "2020-11-11T12:43:02.781238Z",
     "shell.execute_reply": "2020-11-11T12:43:02.780440Z"
    },
    "papermill": {
     "duration": 5.280058,
     "end_time": "2020-11-11T12:43:02.781373",
     "exception": false,
     "start_time": "2020-11-11T12:42:57.501315",
     "status": "completed"
    },
    "tags": []
   },
   "outputs": [],
   "source": [
    "from sklearn.feature_extraction.text import TfidfVectorizer\n",
    "tf=TfidfVectorizer()\n",
    "text_tf= tf.fit_transform(train['review'])"
   ]
  },
  {
   "cell_type": "code",
   "execution_count": 42,
   "metadata": {
    "execution": {
     "iopub.execute_input": "2020-11-11T12:43:02.931640Z",
     "iopub.status.busy": "2020-11-11T12:43:02.930819Z",
     "iopub.status.idle": "2020-11-11T12:43:02.935019Z",
     "shell.execute_reply": "2020-11-11T12:43:02.934392Z"
    },
    "papermill": {
     "duration": 0.081505,
     "end_time": "2020-11-11T12:43:02.935202",
     "exception": false,
     "start_time": "2020-11-11T12:43:02.853697",
     "status": "completed"
    },
    "tags": []
   },
   "outputs": [
    {
     "data": {
      "text/plain": [
       "<25000x74188 sparse matrix of type '<class 'numpy.float64'>'\n",
       "\twith 2582646 stored elements in Compressed Sparse Row format>"
      ]
     },
     "execution_count": 42,
     "metadata": {},
     "output_type": "execute_result"
    }
   ],
   "source": [
    "text_tf"
   ]
  },
  {
   "cell_type": "code",
   "execution_count": 43,
   "metadata": {
    "execution": {
     "iopub.execute_input": "2020-11-11T12:43:03.089985Z",
     "iopub.status.busy": "2020-11-11T12:43:03.089131Z",
     "iopub.status.idle": "2020-11-11T12:43:03.106637Z",
     "shell.execute_reply": "2020-11-11T12:43:03.107210Z"
    },
    "papermill": {
     "duration": 0.097727,
     "end_time": "2020-11-11T12:43:03.107382",
     "exception": false,
     "start_time": "2020-11-11T12:43:03.009655",
     "status": "completed"
    },
    "tags": []
   },
   "outputs": [],
   "source": [
    "from sklearn.model_selection import train_test_split\n",
    "X_train, X_test, y_train, y_test = train_test_split(text_tf,Y, test_size=0.2, random_state=42)"
   ]
  },
  {
   "cell_type": "code",
   "execution_count": 44,
   "metadata": {
    "execution": {
     "iopub.execute_input": "2020-11-11T12:43:03.262827Z",
     "iopub.status.busy": "2020-11-11T12:43:03.262027Z",
     "iopub.status.idle": "2020-11-11T12:43:03.265472Z",
     "shell.execute_reply": "2020-11-11T12:43:03.266056Z"
    },
    "papermill": {
     "duration": 0.086012,
     "end_time": "2020-11-11T12:43:03.266227",
     "exception": false,
     "start_time": "2020-11-11T12:43:03.180215",
     "status": "completed"
    },
    "tags": []
   },
   "outputs": [
    {
     "data": {
      "text/plain": [
       "((20000, 74188), (5000, 74188), (20000, 1), (5000, 1))"
      ]
     },
     "execution_count": 44,
     "metadata": {},
     "output_type": "execute_result"
    }
   ],
   "source": [
    "X_train.shape, X_test.shape, y_train.shape, y_test.shape"
   ]
  },
  {
   "cell_type": "markdown",
   "metadata": {},
   "source": [
    "## Model"
   ]
  },
  {
   "cell_type": "code",
   "execution_count": 45,
   "metadata": {
    "execution": {
     "iopub.execute_input": "2020-11-11T12:43:03.419110Z",
     "iopub.status.busy": "2020-11-11T12:43:03.418331Z",
     "iopub.status.idle": "2020-11-11T12:43:03.457755Z",
     "shell.execute_reply": "2020-11-11T12:43:03.458394Z"
    },
    "papermill": {
     "duration": 0.119285,
     "end_time": "2020-11-11T12:43:03.458556",
     "exception": false,
     "start_time": "2020-11-11T12:43:03.339271",
     "status": "completed"
    },
    "tags": []
   },
   "outputs": [
    {
     "name": "stdout",
     "output_type": "stream",
     "text": [
      "MultinomialNB Accuracy: 86.26\n"
     ]
    }
   ],
   "source": [
    "from sklearn.naive_bayes import MultinomialNB\n",
    "from sklearn import metrics\n",
    "# Model Generation Using Multinomial Naive Bayes\n",
    "clf = MultinomialNB().fit(X_train, y_train.values.ravel())\n",
    "predicted= clf.predict(X_test)\n",
    "print(\"MultinomialNB Accuracy:\",metrics.accuracy_score(y_test, predicted)*100)\n"
   ]
  }
 ],
 "metadata": {
  "kernelspec": {
   "display_name": "Python 3",
   "language": "python",
   "name": "python3"
  },
  "language_info": {
   "codemirror_mode": {
    "name": "ipython",
    "version": 3
   },
   "file_extension": ".py",
   "mimetype": "text/x-python",
   "name": "python",
   "nbconvert_exporter": "python",
   "pygments_lexer": "ipython3",
   "version": "3.8.5"
  },
  "papermill": {
   "duration": 478.014257,
   "end_time": "2020-11-11T12:48:55.882010",
   "environment_variables": {},
   "exception": null,
   "input_path": "__notebook__.ipynb",
   "output_path": "__notebook__.ipynb",
   "parameters": {},
   "start_time": "2020-11-11T12:40:57.867753",
   "version": "2.1.0"
  }
 },
 "nbformat": 4,
 "nbformat_minor": 4
}
